{
 "cells": [
  {
   "cell_type": "code",
   "execution_count": 1,
   "metadata": {},
   "outputs": [],
   "source": [
    "import firebase_admin\n",
    "from firebase_admin import credentials\n",
    "from firebase_admin import firestore\n",
    "import json\n",
    "from firebase_admin import auth\n",
    "import names\n",
    "from random import randint"
   ]
  },
  {
   "cell_type": "code",
   "execution_count": 2,
   "metadata": {},
   "outputs": [
    {
     "data": {
      "text/plain": [
       "<firebase_admin.App at 0x7fe488335e80>"
      ]
     },
     "execution_count": 2,
     "metadata": {},
     "output_type": "execute_result"
    }
   ],
   "source": [
    "\n",
    "cred = credentials.Certificate(\"/Users/waichung/Desktop/SAAD/testing/Submission Code for testing/leagueofselegends-firebase-adminsdk-roqv9-fb3a0feb19.json\")\n",
    "firebase_admin.initialize_app(cred)"
   ]
  },
  {
   "cell_type": "markdown",
   "metadata": {},
   "source": [
    "## Populating database with questions"
   ]
  },
  {
   "cell_type": "code",
   "execution_count": 3,
   "metadata": {},
   "outputs": [],
   "source": [
    "\n",
    "db = firestore.client()"
   ]
  },
  {
   "cell_type": "code",
   "execution_count": 4,
   "metadata": {},
   "outputs": [],
   "source": [
    "def getData(jsonPath=\"/Users/waichung/Desktop/SAAD/testing/Submission Code for testing/Questionaire_Testing.json\"):\n",
    "    file= open(jsonPath)\n",
    "    data=json.load(file)\n",
    "    return data"
   ]
  },
  {
   "cell_type": "code",
   "execution_count": 5,
   "metadata": {},
   "outputs": [],
   "source": [
    "ansMap={\n",
    "    \"a\":1,\n",
    "    \"b\":2,\n",
    "    \"c\":3,\n",
    "    \"d\":4,\n",
    "}"
   ]
  },
  {
   "cell_type": "code",
   "execution_count": 19,
   "metadata": {},
   "outputs": [],
   "source": [
    "def addQuestionToFirebaseByID(qnIdDict,world=\"Testing\",section=\"Functional Testing\",difficulty=\"Easy\"):\n",
    "    \"\"\"Function to add question from json file into firestore given qnIdDict, world, section, and difficulty\"\"\"\n",
    "    col_ref=db.collection(f\"QnA/{world}/Sections/{section}/difficulty/{difficulty}/Questions\")\n",
    "    data=getData()\n",
    "    new_data={}\n",
    "    \n",
    "    document=data[difficulty][qnIdDict]\n",
    "    new_data[\"Question\"]=document[\"question\"]\n",
    "    new_data[\"CorrectAnswer\"]=ansMap[document[\"answers\"].pop(\"correct\")]\n",
    "    optionList=[]\n",
    "    for key,value in document[\"answers\"].items():\n",
    "        optionList.append(value)\n",
    "    new_data[\"Answers\"]=optionList\n",
    "\n",
    "   \n",
    "\n",
    "    doc_ref = db.document(f\"QnA/{world}/Sections/{section}/difficulty/{difficulty}\")\n",
    "    doc = doc_ref.get()\n",
    "    counter = doc.to_dict()[\"counter\"]\n",
    "    newCount=counter+1\n",
    "    new_data[\"questionUID\"] = f\"Q{newCount}\"\n",
    "\n",
    "    #writing data into firebase\n",
    "    col_ref.document(f\"Q{newCount}\").set(new_data)\n",
    "    print(f\"Successfully added {difficulty} Qn{qnIdDict}!\")\n",
    "\n",
    "    doc_ref.update({u'counter': newCount})"
   ]
  },
  {
   "cell_type": "code",
   "execution_count": 20,
   "metadata": {},
   "outputs": [],
   "source": [
    "def addQuestionToFirebaseByDifficulty(difficulty,world=\"Testing\",section=\"Functional Testing\"):\n",
    "    data=getData()\n",
    "    document=data[difficulty]\n",
    "    for key in document.keys():\n",
    "        addQuestionToFirebaseByID(key,world,section,difficulty)"
   ]
  },
  {
   "cell_type": "code",
   "execution_count": 21,
   "metadata": {},
   "outputs": [
    {
     "name": "stdout",
     "output_type": "stream",
     "text": [
      "Successfully added Easy Qn1!\n",
      "Successfully added Easy Qn2!\n",
      "Successfully added Easy Qn3!\n",
      "Successfully added Easy Qn4!\n",
      "Successfully added Easy Qn5!\n",
      "Successfully added Easy Qn6!\n",
      "Successfully added Easy Qn7!\n",
      "Successfully added Easy Qn8!\n",
      "Successfully added Easy Qn9!\n",
      "Successfully added Medium Qn1!\n",
      "Successfully added Medium Qn2!\n",
      "Successfully added Medium Qn3!\n",
      "Successfully added Medium Qn4!\n",
      "Successfully added Medium Qn5!\n",
      "Successfully added Medium Qn6!\n",
      "Successfully added Medium Qn7!\n",
      "Successfully added Medium Qn8!\n",
      "Successfully added Medium Qn9!\n",
      "Successfully added Medium Qn10!\n",
      "Successfully added Hard Qn1!\n",
      "Successfully added Hard Qn2!\n",
      "Successfully added Hard Qn3!\n",
      "Successfully added Hard Qn4!\n",
      "Successfully added Hard Qn5!\n",
      "Successfully added Hard Qn6!\n",
      "Successfully added Hard Qn7!\n",
      "Successfully added Hard Qn8!\n",
      "Successfully added Hard Qn9!\n",
      "Successfully added Hard Qn10!\n"
     ]
    }
   ],
   "source": [
    "addQuestionToFirebaseByDifficulty(\"Easy\")\n",
    "addQuestionToFirebaseByDifficulty(\"Medium\")\n",
    "addQuestionToFirebaseByDifficulty(\"Hard\")"
   ]
  },
  {
   "cell_type": "markdown",
   "metadata": {},
   "source": [
    "## Populating Database with user info"
   ]
  },
  {
   "cell_type": "markdown",
   "metadata": {},
   "source": [
    "1. Retrieving all uuid & email of users from firebase"
   ]
  },
  {
   "cell_type": "code",
   "execution_count": 70,
   "metadata": {},
   "outputs": [],
   "source": [
    "uidList=[]\n",
    "emailList=[]\n",
    "page = auth.list_users()\n",
    "while page:\n",
    "    # for user in page.users:\n",
    "    #     print('User: ' + user.uid)\n",
    "    # Get next batch of users.\n",
    "    page = page.get_next_page()\n",
    "\n",
    "# Iterate through all users. This will still retrieve users in batches,\n",
    "# buffering no more than 1000 users in memory at a time.\n",
    "for user in auth.list_users().iterate_all():\n",
    "    uidList.append(user.uid)\n",
    "    emailList.append(user.email)\n"
   ]
  },
  {
   "cell_type": "markdown",
   "metadata": {},
   "source": [
    "2. Deleting users from firebase authetication using UUid"
   ]
  },
  {
   "cell_type": "code",
   "execution_count": 71,
   "metadata": {},
   "outputs": [
    {
     "name": "stdout",
     "output_type": "stream",
     "text": [
      "Successfully deleted 50 users\n",
      "Failed to delete 0 users\n"
     ]
    }
   ],
   "source": [
    "from firebase_admin import auth\n",
    "\n",
    "result = auth.delete_users(uidList)\n",
    "\n",
    "print('Successfully deleted {0} users'.format(result.success_count))\n",
    "print('Failed to delete {0} users'.format(result.failure_count))\n",
    "for err in result.errors:\n",
    "    print('error #{0}, reason: {1}'.format(result.index, result.reason))"
   ]
  },
  {
   "cell_type": "markdown",
   "metadata": {},
   "source": [
    "3. Deleting users from firebase firestore"
   ]
  },
  {
   "cell_type": "code",
   "execution_count": 66,
   "metadata": {},
   "outputs": [],
   "source": [
    "for email in emailList:\n",
    "    try:\n",
    "        db.collection(u'Users').document(email).delete()\n",
    "    except Exception as e:\n",
    "        print(e)\n"
   ]
  },
  {
   "cell_type": "markdown",
   "metadata": {},
   "source": [
    "### Creating user account for both firebase authentication and firestore"
   ]
  },
  {
   "cell_type": "code",
   "execution_count": 72,
   "metadata": {},
   "outputs": [],
   "source": [
    "def createUser(emailAddress,password,matricNo,userName,ChallengeModeWins,StoryModeScore):\n",
    "    \n",
    "    user = auth.create_user(\n",
    "    email=emailAddress,\n",
    "    password=password,\n",
    "    )\n",
    "    \n",
    "    \n",
    "    data = {\n",
    "        u'EmailAddress': emailAddress,\n",
    "        u'MatriculationNo': matricNo,\n",
    "        u'UserName': userName,\n",
    "        u'UserProgressLevel':u\"Easy\",\n",
    "        u'ChallengeModeWins':ChallengeModeWins,\n",
    "        u'StoryModeScore':StoryModeScore,\n",
    "\n",
    "    }\n",
    "    db.collection(u'Users').document(emailAddress).set(data)\n",
    "\n",
    "    print(f'Sucessfully created new user: {user.email}')"
   ]
  },
  {
   "cell_type": "code",
   "execution_count": 73,
   "metadata": {},
   "outputs": [],
   "source": [
    "\n",
    "\n",
    "def populateDatabase(numOfAcc):\n",
    "    nameList=[]\n",
    "    while len(nameList)<numOfAcc:\n",
    "        name= names.get_first_name()\n",
    "        if name not in nameList:\n",
    "            nameList.append(name)\n",
    "\n",
    "    \n",
    "    for name in nameList:\n",
    "        try:\n",
    "            emailAddress= name+\"@gmail.com\"\n",
    "            password=\"StrongPassword\"\n",
    "            matricNo=\"U\"+str(randint(1000000, 9999999))+\"H\"\n",
    "            userName=name\n",
    "            challengeModeWins=randint(0, 20)\n",
    "            StoryModeScore=0\n",
    "            createUser(emailAddress, password,matricNo,userName,challengeModeWins,StoryModeScore)\n",
    "        except Exception as e:\n",
    "            print(e)\n",
    "\n"
   ]
  },
  {
   "cell_type": "code",
   "execution_count": 74,
   "metadata": {},
   "outputs": [
    {
     "name": "stdout",
     "output_type": "stream",
     "text": [
      "Sucessfully created new user: tim@gmail.com\n",
      "Sucessfully created new user: beverly@gmail.com\n",
      "Sucessfully created new user: gregory@gmail.com\n",
      "Sucessfully created new user: irene@gmail.com\n",
      "Sucessfully created new user: joyce@gmail.com\n",
      "Sucessfully created new user: david@gmail.com\n",
      "Sucessfully created new user: tammy@gmail.com\n",
      "Sucessfully created new user: franklin@gmail.com\n",
      "Sucessfully created new user: peter@gmail.com\n",
      "Sucessfully created new user: emerson@gmail.com\n",
      "Sucessfully created new user: mamie@gmail.com\n",
      "Sucessfully created new user: craig@gmail.com\n",
      "Sucessfully created new user: juanita@gmail.com\n",
      "Sucessfully created new user: christopher@gmail.com\n",
      "Sucessfully created new user: george@gmail.com\n",
      "Sucessfully created new user: shane@gmail.com\n",
      "Sucessfully created new user: leslee@gmail.com\n",
      "Sucessfully created new user: kevin@gmail.com\n",
      "Sucessfully created new user: ronald@gmail.com\n",
      "Sucessfully created new user: robert@gmail.com\n",
      "Sucessfully created new user: ray@gmail.com\n",
      "Sucessfully created new user: linda@gmail.com\n",
      "Sucessfully created new user: susan@gmail.com\n",
      "Sucessfully created new user: betty@gmail.com\n",
      "Sucessfully created new user: doris@gmail.com\n",
      "Sucessfully created new user: kenneth@gmail.com\n",
      "Sucessfully created new user: jessica@gmail.com\n",
      "Sucessfully created new user: vernice@gmail.com\n",
      "Sucessfully created new user: joan@gmail.com\n",
      "Sucessfully created new user: patricia@gmail.com\n",
      "Sucessfully created new user: tyson@gmail.com\n",
      "Sucessfully created new user: frank@gmail.com\n",
      "Sucessfully created new user: elizebeth@gmail.com\n",
      "Sucessfully created new user: lisa@gmail.com\n",
      "Sucessfully created new user: sharon@gmail.com\n",
      "Sucessfully created new user: marylou@gmail.com\n",
      "Sucessfully created new user: lewis@gmail.com\n",
      "Sucessfully created new user: lynda@gmail.com\n",
      "Sucessfully created new user: kathleen@gmail.com\n",
      "Sucessfully created new user: rita@gmail.com\n",
      "Sucessfully created new user: travis@gmail.com\n",
      "Sucessfully created new user: jeremy@gmail.com\n",
      "Sucessfully created new user: virginia@gmail.com\n",
      "Sucessfully created new user: madeline@gmail.com\n",
      "Sucessfully created new user: leticia@gmail.com\n",
      "Sucessfully created new user: amanda@gmail.com\n",
      "Sucessfully created new user: yvonne@gmail.com\n",
      "Sucessfully created new user: steven@gmail.com\n",
      "Sucessfully created new user: dorothy@gmail.com\n",
      "Sucessfully created new user: dolores@gmail.com\n"
     ]
    }
   ],
   "source": [
    "populateDatabase(50)"
   ]
  }
 ],
 "metadata": {
  "kernelspec": {
   "display_name": "Python 3.9.7 ('base')",
   "language": "python",
   "name": "python3"
  },
  "language_info": {
   "codemirror_mode": {
    "name": "ipython",
    "version": 3
   },
   "file_extension": ".py",
   "mimetype": "text/x-python",
   "name": "python",
   "nbconvert_exporter": "python",
   "pygments_lexer": "ipython3",
   "version": "3.9.7"
  },
  "orig_nbformat": 4,
  "vscode": {
   "interpreter": {
    "hash": "6e605d73aba1b0d885ae35f905df4ff5e1dcfe879c89c7eacf2edb31621b0321"
   }
  }
 },
 "nbformat": 4,
 "nbformat_minor": 2
}
